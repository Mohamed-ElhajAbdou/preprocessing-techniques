{
 "cells": [
  {
   "cell_type": "code",
   "execution_count": 24,
   "metadata": {},
   "outputs": [],
   "source": [
    "import tensorflow as tf"
   ]
  },
  {
   "cell_type": "code",
   "execution_count": 17,
   "metadata": {},
   "outputs": [],
   "source": [
    "in_a=tf.placeholder(dtype=tf.float32,shape=(2))\n",
    "in_b=tf.placeholder(dtype=tf.float32,shape=(2))\n",
    "\n",
    "def forword (x):\n",
    "    with tf.Variable_scope(\"matmul\",reuse=AUTO_REUSE):\n",
    "        W=tf.get_Variable(\"W\",initializer=tf.ones(shape(2,2)) ,\n",
    "                         regularizer=tf.contrib.layer.l2_regularizer(0.04))\n",
    "        b=tf.get_Variable(\"b\",inializer=tf.zeros(shape=(2)))\n",
    "        return(W*x+b)"
   ]
  },
  {
   "cell_type": "code",
   "execution_count": 19,
   "metadata": {},
   "outputs": [],
   "source": [
    "out_a=forword(in_a)\n",
    "out_b=forword(in_b)\n",
    "reg_loss=tf.losses.get_regularization_loss(scope=\"matmul\")"
   ]
  },
  {
   "cell_type": "code",
   "execution_count": 8,
   "metadata": {},
   "outputs": [],
   "source": [
    "with tf.Session() as sess:\n",
    "    sess.run(tf.global_variables_initializer())\n",
    "    outs=sess.run([out_a,out_b,reg_loss],\n",
    "                 feed_dict=(in_a:[1,0],in_b:[0,1]))\n"
   ]
  },
  {
   "cell_type": "code",
   "execution_count": 12,
   "metadata": {},
   "outputs": [
    {
     "name": "stdout",
     "output_type": "stream",
     "text": [
      "Tensor('matmul_1/add:0',shape=(2,2),dtype=float32)\n",
      "Tensor('matmul_2/add:0',shape=(2,2),dtype=float32)\n"
     ]
    }
   ],
   "source": [
    "print(out_a)\n",
    "print(out_b)"
   ]
  },
  {
   "cell_type": "code",
   "execution_count": 20,
   "metadata": {},
   "outputs": [],
   "source": [
    "def model(x,training,scope='model'):\n",
    "    with tf.variable_scope(scope,reuse=tf.AUTO_REUSE):\n",
    "        x=tf.layers.conv2d(x,32,3,activation=tf.nn.relu)\n",
    "        x=tf.layers.max_pooling2d(x,(2,2),1)\n",
    "        x=tf.layers.flatten(x)\n",
    "        x=tf.layers.dropout(x,0.1,training=training)\n",
    "        x=tf.layers.dense(x,64,activation=tf.nn.softmax)\n",
    "        return x"
   ]
  },
  {
   "cell_type": "code",
   "execution_count": 21,
   "metadata": {},
   "outputs": [],
   "source": [
    "train_out=model(train_data,training=True)\n",
    "test_out=model(test_data,training=False)"
   ]
  },
  {
   "cell_type": "code",
   "execution_count": null,
   "metadata": {},
   "outputs": [],
   "source": []
  },
  {
   "cell_type": "code",
   "execution_count": null,
   "metadata": {},
   "outputs": [],
   "source": []
  },
  {
   "cell_type": "code",
   "execution_count": null,
   "metadata": {},
   "outputs": [],
   "source": []
  }
 ],
 "metadata": {
  "kernelspec": {
   "display_name": "Python 3",
   "language": "python",
   "name": "python3"
  },
  "language_info": {
   "codemirror_mode": {
    "name": "ipython",
    "version": 3
   },
   "file_extension": ".py",
   "mimetype": "text/x-python",
   "name": "python",
   "nbconvert_exporter": "python",
   "pygments_lexer": "ipython3",
   "version": "3.6.4"
  }
 },
 "nbformat": 4,
 "nbformat_minor": 2
}
